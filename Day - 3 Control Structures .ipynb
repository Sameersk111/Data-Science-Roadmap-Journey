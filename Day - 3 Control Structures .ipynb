{
 "cells": [
  {
   "cell_type": "markdown",
   "id": "90a2f87a-bcc0-4569-94f6-6a8980db754c",
   "metadata": {},
   "source": [
    "## Control Structures Day - 3"
   ]
  },
  {
   "cell_type": "markdown",
   "id": "35010424-63af-4103-9e43-3b8f6fd24d4d",
   "metadata": {},
   "source": [
    "### Sequential control structures"
   ]
  },
  {
   "cell_type": "code",
   "execution_count": 2,
   "id": "afc7fdaa-294c-4a84-9543-61d971dc57c8",
   "metadata": {},
   "outputs": [
    {
     "name": "stdout",
     "output_type": "stream",
     "text": [
      "This is the first statement.\n",
      "This is the second statement.\n",
      "This is the third statement.\n"
     ]
    }
   ],
   "source": [
    "print(\"This is the first statement.\")\n",
    "print(\"This is the second statement.\")\n",
    "print(\"This is the third statement.\")"
   ]
  },
  {
   "cell_type": "markdown",
   "id": "fc7f966e-49cc-46d6-a045-6fa67838e5c9",
   "metadata": {},
   "source": [
    "### Conditional Control Structure"
   ]
  },
  {
   "cell_type": "code",
   "execution_count": 3,
   "id": "f6037572-646a-4d5f-b298-ef488598199a",
   "metadata": {},
   "outputs": [
    {
     "name": "stdout",
     "output_type": "stream",
     "text": [
      "You are an adult.\n"
     ]
    }
   ],
   "source": [
    "age = 20\n",
    "if age >= 18:\n",
    "    print(\"You are an adult.\")\n",
    "else:\n",
    "    print(\"You are a minor.\")"
   ]
  },
  {
   "cell_type": "markdown",
   "id": "2fe0364f-be74-4280-b337-33b41c7e3e28",
   "metadata": {},
   "source": [
    "### Conditional with multiple conditions"
   ]
  },
  {
   "cell_type": "code",
   "execution_count": null,
   "id": "4a30693d-f4eb-49e3-b9b9-e712d39adc6a",
   "metadata": {},
   "outputs": [],
   "source": [
    "age = 18\n",
    "if number > 0:\n",
    "    print(\"The number is positive.\")\n",
    "elif number == 0:\n",
    "    print(\"The number is zero.\")\n",
    "else:\n",
    "    print(\"The number is negative.\")"
   ]
  },
  {
   "cell_type": "markdown",
   "id": "09670a59-aefa-445d-b7b7-699edfd511a9",
   "metadata": {},
   "source": [
    "### Iterative"
   ]
  },
  {
   "cell_type": "code",
   "execution_count": 6,
   "id": "17a24980-1462-415d-b6ed-deeea875e53e",
   "metadata": {},
   "outputs": [
    {
     "name": "stdout",
     "output_type": "stream",
     "text": [
      "\n",
      "For Loop Example:\n",
      "number :  1\n",
      "number :  2\n",
      "number :  3\n",
      "number :  4\n",
      "number :  5\n"
     ]
    }
   ],
   "source": [
    "# For Loop\n",
    "print(\"\\nFor Loop Example:\")\n",
    "list_1=[1,2,3,4,5]\n",
    "for i in list_1: # Here we are iterating through a list\n",
    "    print(\"number : \",i)    "
   ]
  },
  {
   "cell_type": "code",
   "execution_count": 5,
   "id": "09d9fea0-76c0-402d-afdc-19a98559960f",
   "metadata": {},
   "outputs": [
    {
     "name": "stdout",
     "output_type": "stream",
     "text": [
      "\n",
      "While Loop Example:\n",
      "Count is 0\n",
      "Count is 1\n",
      "Count is 2\n",
      "Count is 3\n",
      "Count is 4\n"
     ]
    }
   ],
   "source": [
    "# While Loop\n",
    "print(\"\\nWhile Loop Example:\")\n",
    "count = 0\n",
    "while count < 5:\n",
    "    print(f\"Count is {count}\")\n",
    "    count += 1"
   ]
  },
  {
   "cell_type": "markdown",
   "id": "c5e8127b-bd65-45c8-9e83-6ffad679d1b7",
   "metadata": {},
   "source": [
    "### Nested "
   ]
  },
  {
   "cell_type": "code",
   "execution_count": 7,
   "id": "13d0bdce-f02b-4420-802c-48464d2085bd",
   "metadata": {},
   "outputs": [
    {
     "name": "stdout",
     "output_type": "stream",
     "text": [
      "\n",
      "Nested For Loop Example:\n",
      "i = 0, j = 0\n",
      "i = 0, j = 1\n",
      "i = 1, j = 0\n",
      "i = 1, j = 1\n",
      "i = 2, j = 0\n",
      "i = 2, j = 1\n"
     ]
    }
   ],
   "source": [
    "print(\"\\nNested For Loop Example:\")\n",
    "for i in range(3):\n",
    "    for j in range(2):\n",
    "        print(f\"i = {i}, j = {j}\") # Here I am trying to show you the nested iterations \n",
    "# You can observe "
   ]
  },
  {
   "cell_type": "markdown",
   "id": "188f3acc-db8a-4c6d-a050-b8db45068c59",
   "metadata": {},
   "source": [
    "### Break, Continue, and Pass "
   ]
  },
  {
   "cell_type": "code",
   "execution_count": 8,
   "id": "8e4ac066-1f1b-4e96-80e7-f2a0b4eaf1b0",
   "metadata": {},
   "outputs": [
    {
     "name": "stdout",
     "output_type": "stream",
     "text": [
      "\n",
      "Break Example:\n",
      "0\n",
      "1\n",
      "2\n"
     ]
    }
   ],
   "source": [
    "print(\"\\nBreak Example:\")\n",
    "for i in range(5):\n",
    "    if i == 3:\n",
    "        break\n",
    "    print(i)"
   ]
  },
  {
   "cell_type": "code",
   "execution_count": 9,
   "id": "c2feaaa8-4973-47af-a76f-871323bc492f",
   "metadata": {},
   "outputs": [
    {
     "name": "stdout",
     "output_type": "stream",
     "text": [
      "\n",
      "Continue Example:\n",
      "0\n",
      "1\n",
      "2\n",
      "4\n"
     ]
    }
   ],
   "source": [
    "print(\"\\nContinue Example:\")\n",
    "for i in range(5):\n",
    "    if i == 3:\n",
    "        continue\n",
    "    print(i)"
   ]
  },
  {
   "cell_type": "code",
   "execution_count": 10,
   "id": "f207d893-7f42-4408-830f-fbf204bcef75",
   "metadata": {},
   "outputs": [
    {
     "name": "stdout",
     "output_type": "stream",
     "text": [
      "\n",
      "Pass Example:\n",
      "Pass was used, but no output here.\n"
     ]
    }
   ],
   "source": [
    "print(\"\\nPass Example:\")\n",
    "for i in range(5):\n",
    "    pass  \n",
    "\n",
    "print(\"Pass was used, but no output here.\")"
   ]
  }
 ],
 "metadata": {
  "kernelspec": {
   "display_name": "Python 3 (ipykernel)",
   "language": "python",
   "name": "python3"
  },
  "language_info": {
   "codemirror_mode": {
    "name": "ipython",
    "version": 3
   },
   "file_extension": ".py",
   "mimetype": "text/x-python",
   "name": "python",
   "nbconvert_exporter": "python",
   "pygments_lexer": "ipython3",
   "version": "3.12.7"
  }
 },
 "nbformat": 4,
 "nbformat_minor": 5
}
