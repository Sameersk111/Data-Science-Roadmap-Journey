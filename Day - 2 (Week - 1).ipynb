{
 "cells": [
  {
   "cell_type": "markdown",
   "id": "4a4521cd-a98b-42b5-8916-579d5ee6c003",
   "metadata": {},
   "source": [
    "# Day - 2 Python Basics"
   ]
  },
  {
   "cell_type": "markdown",
   "id": "e01ec349-011f-4092-93e8-f11d99696884",
   "metadata": {},
   "source": [
    "### Variables"
   ]
  },
  {
   "cell_type": "code",
   "execution_count": 1,
   "id": "33a2ae81-5336-47e3-9c4d-042aa893374c",
   "metadata": {},
   "outputs": [
    {
     "name": "stdout",
     "output_type": "stream",
     "text": [
      "10 3.14 Prabhas True\n"
     ]
    }
   ],
   "source": [
    "# Defining the variables \n",
    "a = 10 \n",
    "b = 3.14 \n",
    "name = \"Prabhas\" \n",
    "is_right = True\n",
    "\n",
    "# Printing the variables\n",
    "print(a,b, name, is_right)\n",
    "\n"
   ]
  },
  {
   "cell_type": "markdown",
   "id": "7b5de3dc-e68c-4c4e-ba9f-640e19a804dc",
   "metadata": {},
   "source": [
    "### Data Types"
   ]
  },
  {
   "cell_type": "code",
   "execution_count": 2,
   "id": "b04dd93b-9741-41b2-8486-b4104f04aa25",
   "metadata": {},
   "outputs": [
    {
     "name": "stdout",
     "output_type": "stream",
     "text": [
      "<class 'int'>\n"
     ]
    }
   ],
   "source": [
    "# Numeric \n",
    "int_vari=33\n",
    "floated_var=25.365\n",
    "complex_num=1+3j\n",
    "print(type(int_vari))"
   ]
  },
  {
   "cell_type": "code",
   "execution_count": 3,
   "id": "e0066ab6-8087-40df-ad20-171dd328c3df",
   "metadata": {},
   "outputs": [
    {
     "name": "stdout",
     "output_type": "stream",
     "text": [
      "<class 'str'>\n"
     ]
    }
   ],
   "source": [
    "# Text type\n",
    "string_vari = \"Hi Boys Enjoyy Pandagoww\"\n",
    "print(type(string_vari))"
   ]
  },
  {
   "cell_type": "code",
   "execution_count": 4,
   "id": "319d9963-bc14-40a5-bb71-dc9020f8d82f",
   "metadata": {},
   "outputs": [
    {
     "name": "stdout",
     "output_type": "stream",
     "text": [
      "<class 'bool'>\n"
     ]
    }
   ],
   "source": [
    "# Boolean Types\n",
    "boole_vari= False\n",
    "print(type(boole_vari))"
   ]
  },
  {
   "cell_type": "code",
   "execution_count": 5,
   "id": "11ca18fc-9529-4579-b06a-8f168178505f",
   "metadata": {},
   "outputs": [
    {
     "name": "stdout",
     "output_type": "stream",
     "text": [
      "(8, 9, 10)\n"
     ]
    }
   ],
   "source": [
    "# Sequence Type ( A kind of data structure )\n",
    "listed_data = [1,2,3]\n",
    "tuple_data = (8,9,10)\n",
    "print(tuple_data)"
   ]
  },
  {
   "cell_type": "code",
   "execution_count": 6,
   "id": "e0346902-1fb9-4039-a1bf-fe9081396be9",
   "metadata": {},
   "outputs": [
    {
     "name": "stdout",
     "output_type": "stream",
     "text": [
      "{'name': 'Jai Balayya', 'age': '999'}\n",
      "<class 'dict'>\n"
     ]
    }
   ],
   "source": [
    "# Mapping Type\n",
    "dict_data= {\"name\":\"Jai Balayya\",\"age\":\"999\"}\n",
    "print(dict_data)\n",
    "print(type(dict_data))"
   ]
  },
  {
   "cell_type": "code",
   "execution_count": 7,
   "id": "4694e6d2-4d88-4b2c-899c-26e472524f85",
   "metadata": {},
   "outputs": [],
   "source": [
    "# Set\n",
    "set_data= {1,2,3,4,5}"
   ]
  },
  {
   "cell_type": "markdown",
   "id": "af01b7e5-29ae-4200-a479-3f194e489d37",
   "metadata": {},
   "source": [
    "### Operators and Basic operations"
   ]
  },
  {
   "cell_type": "code",
   "execution_count": 8,
   "id": "b597abb7-61de-40a9-8c62-dbe435b42fb5",
   "metadata": {},
   "outputs": [],
   "source": [
    "# Defining the variables\n",
    "a = 10\n",
    "b = 3"
   ]
  },
  {
   "cell_type": "markdown",
   "id": "da6ff99f-32c0-4c30-a0df-8672f395e58e",
   "metadata": {},
   "source": [
    "##### Arithmetic operations "
   ]
  },
  {
   "cell_type": "code",
   "execution_count": 9,
   "id": "36692e8d-8e64-4fba-bda7-94012924e8d6",
   "metadata": {},
   "outputs": [
    {
     "name": "stdout",
     "output_type": "stream",
     "text": [
      "Addition: 13\n",
      "Subtraction: 7\n",
      "Multiplication: 30\n",
      "Division: 3.3333333333333335\n",
      "Floor Division: 3\n",
      "Modulus: 1\n",
      "Exponentiation: 1000\n"
     ]
    }
   ],
   "source": [
    "print(\"Addition:\", a + b)\n",
    "# Subtraction\n",
    "print(\"Subtraction:\", a - b)\n",
    "# Multiplication\n",
    "print(\"Multiplication:\", a * b)\n",
    "# Division\n",
    "print(\"Division:\", a / b)\n",
    "# Floor Division\n",
    "print(\"Floor Division:\", a // b)\n",
    "# Modulus \n",
    "print(\"Modulus:\", a % b)\n",
    "# Exponentiations\n",
    "print(\"Exponentiation:\", a ** b)"
   ]
  },
  {
   "cell_type": "markdown",
   "id": "d0b38c74-dfee-416d-9054-9f146eda85a6",
   "metadata": {},
   "source": [
    "#### Comparison Operators"
   ]
  },
  {
   "cell_type": "code",
   "execution_count": 10,
   "id": "a3e325bb-b121-4ebf-837b-420b650ba8b1",
   "metadata": {},
   "outputs": [
    {
     "name": "stdout",
     "output_type": "stream",
     "text": [
      "False\n",
      "True\n",
      "False\n",
      "True\n",
      "False\n",
      "True\n"
     ]
    }
   ],
   "source": [
    "# Defining new variables again now \n",
    "x = 10 \n",
    "y = 20\n",
    "print(x == y)  # Equal to\n",
    "print(x != y)  # Not equal to\n",
    "print(x > y)   # Greater than\n",
    "print(x < y)   # Less than\n",
    "print(x >= y)  # Greater than or equal to\n",
    "print(x <= y)  # Less than or equal to"
   ]
  },
  {
   "cell_type": "markdown",
   "id": "73ed7ae6-df86-460b-8eb1-0c6fbaeb4048",
   "metadata": {},
   "source": [
    "#### Logical Operators"
   ]
  },
  {
   "cell_type": "code",
   "execution_count": 11,
   "id": "6502bbaf-640d-4348-8218-a1feb8a9fe5e",
   "metadata": {},
   "outputs": [
    {
     "name": "stdout",
     "output_type": "stream",
     "text": [
      "False\n",
      "True\n",
      "False\n"
     ]
    }
   ],
   "source": [
    "x = True\n",
    "y = False\n",
    "print(x and y)  # Logical AND\n",
    "print(x or y)   # Logical OR\n",
    "print(not x)    # Logical NOT"
   ]
  },
  {
   "cell_type": "markdown",
   "id": "64a021d4-56e1-4867-b296-2a5e0ec31a54",
   "metadata": {},
   "source": [
    "#### Assignment Operators"
   ]
  },
  {
   "cell_type": "code",
   "execution_count": 12,
   "id": "6f2a2821-27d9-44d4-9ab5-41b168ee9c34",
   "metadata": {},
   "outputs": [
    {
     "name": "stdout",
     "output_type": "stream",
     "text": [
      "13\n",
      "26\n"
     ]
    }
   ],
   "source": [
    "x= 10 \n",
    "x +=3 # adding 3 to the variable\n",
    "print(x)\n",
    "\n",
    "x*=2 # Multiplying x variable with 2 \n",
    "print(x)"
   ]
  },
  {
   "cell_type": "markdown",
   "id": "9cfbe5c4-47cb-4280-a395-f08967cec7eb",
   "metadata": {},
   "source": [
    "#### Membership Operators"
   ]
  },
  {
   "cell_type": "code",
   "execution_count": 13,
   "id": "61285681-314e-450f-9dc2-908425d8b7dd",
   "metadata": {},
   "outputs": [
    {
     "name": "stdout",
     "output_type": "stream",
     "text": [
      "True\n",
      "False\n"
     ]
    }
   ],
   "source": [
    "nums = [1,2,3,4,5]\n",
    "print(4 in nums) # as 4 is in the list so it will return 4 \n",
    "print(18 in nums) # As here 18 is not in the list False is returned "
   ]
  },
  {
   "cell_type": "markdown",
   "id": "3608326f-b239-47c9-aaa7-e2061e78bc82",
   "metadata": {},
   "source": [
    "#### Identify Operators"
   ]
  },
  {
   "cell_type": "code",
   "execution_count": 14,
   "id": "75cff87c-8993-4e34-a469-9ebf684ffb31",
   "metadata": {},
   "outputs": [
    {
     "name": "stdout",
     "output_type": "stream",
     "text": [
      "False\n",
      "True\n",
      "True\n"
     ]
    }
   ],
   "source": [
    "a = [1,2,3]\n",
    "b = [4,5,6]\n",
    "c = a\n",
    "print(a is b)  # False, different objects\n",
    "print(a is c)  # True, same object\n",
    "print(a is not b)  # True"
   ]
  },
  {
   "cell_type": "code",
   "execution_count": null,
   "id": "c0851aec-1b1b-47ab-bc2c-600e6748cba9",
   "metadata": {},
   "outputs": [],
   "source": []
  }
 ],
 "metadata": {
  "kernelspec": {
   "display_name": "Python 3 (ipykernel)",
   "language": "python",
   "name": "python3"
  },
  "language_info": {
   "codemirror_mode": {
    "name": "ipython",
    "version": 3
   },
   "file_extension": ".py",
   "mimetype": "text/x-python",
   "name": "python",
   "nbconvert_exporter": "python",
   "pygments_lexer": "ipython3",
   "version": "3.12.7"
  }
 },
 "nbformat": 4,
 "nbformat_minor": 5
}
