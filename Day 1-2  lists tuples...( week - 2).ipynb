{
 "cells": [
  {
   "cell_type": "markdown",
   "id": "9a4fb594-9a7c-4111-887c-838f0210aaf2",
   "metadata": {},
   "source": [
    "### Day 1 - 2 Lists, Tuples, Dictionary, Set operations "
   ]
  },
  {
   "cell_type": "markdown",
   "id": "011a62da-c200-4d66-a04f-66004ba4bab6",
   "metadata": {},
   "source": [
    "#### Lists"
   ]
  },
  {
   "cell_type": "code",
   "execution_count": 1,
   "id": "8d6c649f-7614-46b9-96c8-a96a4106a3df",
   "metadata": {},
   "outputs": [
    {
     "name": "stdout",
     "output_type": "stream",
     "text": [
      "Original List: [1, 'apple', 3.5, 'banana']\n",
      "Accessing Index 1 (Second element): apple\n",
      "After adding element: [1, 'apple', 3.5, 'banana', 'grape']\n",
      "After Modifying Index 0: [100, 'apple', 3.5, 'banana', 'grape']\n",
      "After Removing 'apple': [100, 3.5, 'banana', 'grape']\n",
      "List Slice (First 3 elements): [100, 3.5, 'banana']\n"
     ]
    }
   ],
   "source": [
    "# Python Data Structures: Lists, Tuples, Dictionaries, and Sets\n",
    "# creating  a list with mixed data types\n",
    "my_list = [1, 'apple', 3.5, 'banana']\n",
    "print(\"Original List:\", my_list)\n",
    "\n",
    "# Accessing elements\n",
    "print(\"Accessing Index 1 (Second element):\", my_list[1])\n",
    "\n",
    "# Adding elements\n",
    "my_list.append('grape')\n",
    "print(\"After adding element:\", my_list)\n",
    "\n",
    "# Modifying elements index\n",
    "my_list[0] = 100\n",
    "print(\"After Modifying Index 0:\", my_list)\n",
    "\n",
    "# Removing elements \n",
    "my_list.remove('apple')\n",
    "print(\"After Removing 'apple':\", my_list)\n",
    "\n",
    "# List slicing\n",
    "print(\"List Slice (First 3 elements):\", my_list[:3])\n"
   ]
  },
  {
   "cell_type": "markdown",
   "id": "896ddb92-1ce1-4d29-a2a4-bf837dbc0395",
   "metadata": {},
   "source": [
    "#### Dictionaries"
   ]
  },
  {
   "cell_type": "code",
   "execution_count": null,
   "id": "26f58eba-880e-4e34-aa35-d6d8742e8b8c",
   "metadata": {},
   "outputs": [],
   "source": [
    "# 3. Dictionaries - Key-Value Pairs\n",
    "print(\"\\n--- 3. Dictionaries ---\")\n",
    "\n",
    "# Defining a dictionary\n",
    "my_dict = {\n",
    "    'name': 'John',\n",
    "    'age': 25,\n",
    "    'city': 'New York'\n",
    "}\n",
    "print(\"Original Dictionary:\", my_dict)\n",
    "\n",
    "# Accessing values using keys\n",
    "print(\"Accessing 'name':\", my_dict['name'])\n",
    "\n",
    "# Modifying a value\n",
    "my_dict['age'] = 26\n",
    "print(\"After Modifying 'age':\", my_dict)\n",
    "\n",
    "# Adding a new key-value pair\n",
    "my_dict['country'] = 'USA'\n",
    "print(\"After Adding 'country':\", my_dict)\n",
    "\n",
    "# Removing a key-value pair\n",
    "del my_dict['city']\n",
    "print(\"After Deleting 'city':\", my_dict)\n",
    "\n",
    "# Iterating through keys and values\n",
    "print(\"Dictionary Iteration:\")\n",
    "for key, value in my_dict.items():\n",
    "    print(f\"{key}: {value}\")\n"
   ]
  },
  {
   "cell_type": "markdown",
   "id": "0cf0e8dc-02ea-4467-942c-ca476d4e45f5",
   "metadata": {},
   "source": [
    "#### Sets "
   ]
  },
  {
   "cell_type": "code",
   "execution_count": null,
   "id": "80c78bc2-c495-4f78-9c31-eac692c44d01",
   "metadata": {},
   "outputs": [],
   "source": [
    "# 4. Sets - Unordered and Unique\n",
    "print(\"\\n--- 4. Sets ---\")\n",
    "\n",
    "# Defining a set\n",
    "my_set = {1, 2, 3, 2, 4}\n",
    "print(\"Original Set (Duplicates Removed):\", my_set)\n",
    "\n",
    "# Adding elements to set\n",
    "my_set.add(5)\n",
    "print(\"After Adding 5:\", my_set)\n",
    "\n",
    "# Removing elements from a set\n",
    "my_set.remove(2)\n",
    "print(\"After Removing 2:\", my_set)\n"
   ]
  },
  {
   "cell_type": "markdown",
   "id": "d150fbf8-44a6-40b1-97b6-841791d6a515",
   "metadata": {},
   "source": [
    "#### Set Operations"
   ]
  },
  {
   "cell_type": "markdown",
   "id": "ea44ccd2-9e7d-4098-83d6-5440c3a50308",
   "metadata": {},
   "source": [
    "#### Union "
   ]
  },
  {
   "cell_type": "code",
   "execution_count": 2,
   "id": "ec48cfeb-ca56-4690-a840-686f56fba3c8",
   "metadata": {},
   "outputs": [
    {
     "name": "stdout",
     "output_type": "stream",
     "text": [
      "\n",
      "Set Operations:\n",
      "Set A: {1, 2, 3}\n",
      "Set B: {3, 4, 5}\n",
      "Union (A | B): {1, 2, 3, 4, 5}\n"
     ]
    }
   ],
   "source": [
    "# Performing set operations\n",
    "set_a = {1, 2, 3}\n",
    "set_b = {3, 4, 5}\n",
    "\n",
    "print(\"\\nSet Operations:\")\n",
    "print(\"Set A:\", set_a)\n",
    "print(\"Set B:\", set_b)\n",
    "\n",
    "# Union - Combine elements from both sets\n",
    "union_result = set_a | set_b\n",
    "print(\"Union (A | B):\", union_result)"
   ]
  },
  {
   "cell_type": "markdown",
   "id": "06111e5c-979d-457d-93dd-93ee707a96b5",
   "metadata": {},
   "source": [
    "#### Intersection"
   ]
  },
  {
   "cell_type": "code",
   "execution_count": 3,
   "id": "edcfeb56-3dc6-40c2-b9ee-87af36cb641a",
   "metadata": {},
   "outputs": [
    {
     "name": "stdout",
     "output_type": "stream",
     "text": [
      "Intersection (A & B): {3}\n"
     ]
    }
   ],
   "source": [
    "# Intersection - Common elements\n",
    "intersection_result = set_a & set_b\n",
    "print(\"Intersection (A & B):\", intersection_result)"
   ]
  },
  {
   "cell_type": "markdown",
   "id": "cdb9e21b-d886-4c54-b48f-47043a21aaeb",
   "metadata": {},
   "source": [
    "#### Difference"
   ]
  },
  {
   "cell_type": "code",
   "execution_count": 4,
   "id": "c80d5841-f64a-4375-95b2-8b36e584d172",
   "metadata": {},
   "outputs": [
    {
     "name": "stdout",
     "output_type": "stream",
     "text": [
      "Difference (A - B): {1, 2}\n"
     ]
    }
   ],
   "source": [
    "# Difference - Elements in A but not in B\n",
    "difference_result = set_a - set_b\n",
    "print(\"Difference (A - B):\", difference_result)"
   ]
  },
  {
   "cell_type": "markdown",
   "id": "9d683ed7-4713-4fc2-9b8d-dac3bfb8bfd5",
   "metadata": {},
   "source": [
    "#### Symmetry"
   ]
  },
  {
   "cell_type": "code",
   "execution_count": 5,
   "id": "0e9b0ae0-f332-43a8-ac2e-061606176c0c",
   "metadata": {},
   "outputs": [
    {
     "name": "stdout",
     "output_type": "stream",
     "text": [
      "Symmetric Difference (A ^ B): {1, 2, 4, 5}\n"
     ]
    }
   ],
   "source": [
    "# Symmetric Difference - Elements in A or B, but not both\n",
    "symmetric_diff_result = set_a ^ set_b\n",
    "print(\"Symmetric Difference (A ^ B):\", symmetric_diff_result)"
   ]
  },
  {
   "cell_type": "code",
   "execution_count": 9,
   "id": "41fbb2fc-1cc0-41f5-954d-ba8b19d8a07a",
   "metadata": {},
   "outputs": [
    {
     "name": "stdout",
     "output_type": "stream",
     "text": [
      "[4]\n",
      "[1, 2, 3, 5]\n"
     ]
    }
   ],
   "source": [
    "list_1=[1,2,3,4,5]\n",
    "x=[]\n",
    "x.append(list_1.pop(3))\n",
    "print(x)\n",
    "print(list_1)"
   ]
  },
  {
   "cell_type": "code",
   "execution_count": null,
   "id": "2f43def6-ff25-4c20-8e23-fd3fff8bc1b0",
   "metadata": {},
   "outputs": [],
   "source": []
  }
 ],
 "metadata": {
  "kernelspec": {
   "display_name": "Python 3 (ipykernel)",
   "language": "python",
   "name": "python3"
  },
  "language_info": {
   "codemirror_mode": {
    "name": "ipython",
    "version": 3
   },
   "file_extension": ".py",
   "mimetype": "text/x-python",
   "name": "python",
   "nbconvert_exporter": "python",
   "pygments_lexer": "ipython3",
   "version": "3.12.7"
  }
 },
 "nbformat": 4,
 "nbformat_minor": 5
}
