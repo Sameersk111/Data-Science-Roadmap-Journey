{
 "cells": [
  {
   "cell_type": "markdown",
   "id": "5bea8fb2-23e9-4d18-88c4-c20105c2a8d2",
   "metadata": {},
   "source": [
    "###  Day - 4 Functions, Scope, Lambda function "
   ]
  },
  {
   "cell_type": "markdown",
   "id": "1cac0ba7-7145-46c6-89ae-73141aa116c8",
   "metadata": {},
   "source": [
    "#### Taking the user inputs"
   ]
  },
  {
   "cell_type": "code",
   "execution_count": 4,
   "id": "a2ba2255-4568-400c-88c4-bf772a4c26f5",
   "metadata": {},
   "outputs": [
    {
     "name": "stdout",
     "output_type": "stream",
     "text": [
      "enter a string sameer samaas sadfkja\n",
      "enter an integer 343\n"
     ]
    },
    {
     "name": "stdout",
     "output_type": "stream",
     "text": [
      "The input string is : sameer samaas sadfkja\n",
      "The integer is: 343\n"
     ]
    }
   ],
   "source": [
    "a=input(\"enter a string\") # this input function will take a string as the input into the variable b here\n",
    "b=int(input(\"enter an integer\")) # here for input function we are tagging int so that this variable accepts an integer \n",
    "print(\"The input string is :\",a)\n",
    "print(\"The integer is:\",b)"
   ]
  },
  {
   "cell_type": "markdown",
   "id": "7b837a28-d645-41a5-b0f8-7535a75ffd8e",
   "metadata": {},
   "source": [
    "#### Functions "
   ]
  },
  {
   "cell_type": "code",
   "execution_count": 2,
   "id": "d5687438-b9a0-4dbe-ac21-6419de0cfb3e",
   "metadata": {},
   "outputs": [
    {
     "name": "stdout",
     "output_type": "stream",
     "text": [
      "Hello, Jai Balayya!\n"
     ]
    }
   ],
   "source": [
    "# defining functions inititially \n",
    "# Here we can say function also as method \n",
    "def wish(name):\n",
    "    \"\"\"\n",
    "    this is a Function to wish a user by name.\n",
    "    (param name) str - The name of the user.\n",
    "    (return) str -  message.\n",
    "    \"\"\"\n",
    "    return f\"Hello, {name}!\"\n",
    "\n",
    "# Using the wish function\n",
    "print(wish(\"Jai Balayya\"))  "
   ]
  },
  {
   "cell_type": "markdown",
   "id": "3b5806c3",
   "metadata": {},
   "source": [
    "#### Multi parameter functions"
   ]
  },
  {
   "cell_type": "code",
   "execution_count": 1,
   "id": "450ce1e4-ca9f-402e-bfb9-09f6be78adc5",
   "metadata": {},
   "outputs": [
    {
     "name": "stdout",
     "output_type": "stream",
     "text": [
      "12\n"
     ]
    }
   ],
   "source": [
    " # A method with Multiple Parameters\n",
    "def multiply(a, b):\n",
    "    \"\"\"\n",
    "    this Function is to multiply two numbers.\n",
    "    (param a) int or float - First number.\n",
    "    (param b) int or float - Second number.\n",
    "    (return) int or float - Product of a and b.\n",
    "    \"\"\"\n",
    "    c=a*b\n",
    "    return c\n",
    "\n",
    "# Calling the multiply method\n",
    "a=int(input(\"enter the number \"))\n",
    "print(multiply(3, 4))  "
   ]
  },
  {
   "cell_type": "markdown",
   "id": "a2ab980f-68af-4198-adda-5476a656bb70",
   "metadata": {},
   "source": [
    "#### Scope of a variable"
   ]
  },
  {
   "cell_type": "code",
   "execution_count": 5,
   "id": "ad76682a-fe9e-4fb2-bd7f-af89a93eccd8",
   "metadata": {},
   "outputs": [
    {
     "name": "stdout",
     "output_type": "stream",
     "text": [
      "Outside function: Global\n",
      "Inside function: Local\n"
     ]
    }
   ],
   "source": [
    "x = \"Global\"  # Global Scope variable\n",
    "# defining a function \n",
    "def scope_ex():\n",
    "    \"\"\"\n",
    "    This is a function to demonstrate local scope.\n",
    "    \"\"\"\n",
    "    x = \"Local\"  # Local Scope\n",
    "    print(\"Inside function:\", x)\n",
    "\n",
    "# Using the scope_example function\n",
    "print(\"Outside function:\", x)  # Output: Global Variable\n",
    "scope_ex()  # Output: Local Variable\n"
   ]
  },
  {
   "cell_type": "markdown",
   "id": "419ec702",
   "metadata": {},
   "source": [
    "#### Nested Functions "
   ]
  },
  {
   "cell_type": "code",
   "execution_count": 6,
   "id": "7d27fab6-4b23-463c-8f78-e1a4c65307e4",
   "metadata": {},
   "outputs": [
    {
     "name": "stdout",
     "output_type": "stream",
     "text": [
      "Local Scope: Local Variable\n",
      "Enclosed Scope: Enclosed Variable\n",
      "Global Scope: Global\n"
     ]
    }
   ],
   "source": [
    "# Example of Enclosed Scope and Nested Functions\n",
    "def outer_function():\n",
    "    \"\"\"\n",
    "    Outer function demonstrating enclosed scope.\n",
    "    \"\"\"\n",
    "    enclosed_var = \"Enclosed Variable\"  # Enclosed Scope\n",
    "\n",
    "    def inner_function():\n",
    "        \"\"\"\n",
    "        Inner function accessing enclosed and global scope variables.\n",
    "        \"\"\"\n",
    "        local_var = \"Local Variable\"  # Local Scope\n",
    "        print(\"Local Scope:\", local_var)\n",
    "        print(\"Enclosed Scope:\", enclosed_var)\n",
    "        print(\"Global Scope:\", x)\n",
    "\n",
    "    return inner_function\n",
    "\n",
    "# Using nested functions\n",
    "nested_function = outer_function()\n",
    "nested_function()\n",
    "\n"
   ]
  },
  {
   "cell_type": "markdown",
   "id": "ec3bb318-ed4f-488a-89e8-b21edc12bf0c",
   "metadata": {},
   "source": [
    "#### Lambda keyword"
   ]
  },
  {
   "cell_type": "code",
   "execution_count": null,
   "id": "b345ae74",
   "metadata": {},
   "outputs": [],
   "source": [
    "# Lambda to calculate the square of a number\n",
    "square = lambda x: x ** 2\n",
    "print(\"Square of 5:\", square(5)) "
   ]
  },
  {
   "cell_type": "markdown",
   "id": "bcf34583",
   "metadata": {},
   "source": [
    "#### Addition of two numbers "
   ]
  },
  {
   "cell_type": "code",
   "execution_count": null,
   "id": "d2c5a7e2",
   "metadata": {},
   "outputs": [],
   "source": [
    "# Lambda to add two numbers\n",
    "add = lambda a, b: a + b\n",
    "print(\"Sum of 3 and 7:\", add(3, 7))  # Output: 10"
   ]
  },
  {
   "cell_type": "markdown",
   "id": "d4a7d823",
   "metadata": {},
   "source": [
    "#### Filtering Data "
   ]
  },
  {
   "cell_type": "code",
   "execution_count": null,
   "id": "59f38f51",
   "metadata": {},
   "outputs": [],
   "source": [
    "#  Use Case: Filtering Data\n",
    "data = [1, 2, 3, 4, 5, 6]\n",
    "# Using lambda to filter even numbers\n",
    "filtered_data = list(filter(lambda x: x % 2 == 0, data))\n",
    "print(\"Filtered Even Numbers:\", filtered_data)  # Output: [2, 4, 6]"
   ]
  },
  {
   "cell_type": "markdown",
   "id": "75fc0a2e",
   "metadata": {},
   "source": [
    "#### Sorting Data "
   ]
  },
  {
   "cell_type": "code",
   "execution_count": null,
   "id": "65a82aa1-b949-452e-9d9b-81d8b4017042",
   "metadata": {},
   "outputs": [],
   "source": [
    "\n",
    "#  Use Case: Sorting Data\n",
    "students = [\n",
    "    {\"name\": \"Alice\", \"score\": 85},\n",
    "    {\"name\": \"Bob\", \"score\": 92},\n",
    "    {\"name\": \"Charlie\", \"score\": 78}\n",
    "]\n",
    "# Using lambda to sort students by score\n",
    "top_students = sorted(students, key=lambda x: x['score'], reverse=True)\n",
    "print(\"Top Students:\", top_students)"
   ]
  },
  {
   "cell_type": "markdown",
   "id": "d668eb0b",
   "metadata": {},
   "source": [
    "#### map function"
   ]
  },
  {
   "cell_type": "code",
   "execution_count": null,
   "id": "0cb5cb83",
   "metadata": {},
   "outputs": [],
   "source": [
    "#  Use Case: Map Function\n",
    "# Map function is used to take multiple inputs at a time for data structure such as list\n",
    "numbers = [1, 2, 3, 4]\n",
    "# Using lambda to compute squares\n",
    "squares = list(map(lambda x: x ** 2, numbers))\n",
    "print(\"Squares:\", squares)  # Output: [1, 4, 9, 16]"
   ]
  }
 ],
 "metadata": {
  "kernelspec": {
   "display_name": "Python 3 (ipykernel)",
   "language": "python",
   "name": "python3"
  },
  "language_info": {
   "codemirror_mode": {
    "name": "ipython",
    "version": 3
   },
   "file_extension": ".py",
   "mimetype": "text/x-python",
   "name": "python",
   "nbconvert_exporter": "python",
   "pygments_lexer": "ipython3",
   "version": "3.12.7"
  }
 },
 "nbformat": 4,
 "nbformat_minor": 5
}
