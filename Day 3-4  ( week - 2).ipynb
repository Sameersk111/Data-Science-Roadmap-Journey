{
 "cells": [
  {
   "cell_type": "markdown",
   "id": "952edbf5-ad47-4801-8bef-83598efd0de1",
   "metadata": {},
   "source": [
    "### Installing numpy"
   ]
  },
  {
   "cell_type": "code",
   "execution_count": 1,
   "id": "5d7ef683-f43f-4fb6-8f4b-f10af51e8c9d",
   "metadata": {},
   "outputs": [
    {
     "name": "stdout",
     "output_type": "stream",
     "text": [
      "Requirement already satisfied: numpy in c:\\users\\samee\\anaconda3\\lib\\site-packages (1.26.4)\n",
      "Note: you may need to restart the kernel to use updated packages.\n"
     ]
    }
   ],
   "source": [
    "pip install numpy"
   ]
  },
  {
   "cell_type": "markdown",
   "id": "0246e6cf-48ff-4c59-829b-00ff7e27a60d",
   "metadata": {},
   "source": [
    "### Importing the library"
   ]
  },
  {
   "cell_type": "code",
   "execution_count": 2,
   "id": "97ce5f14-8024-4ee1-934b-6bdce91bf444",
   "metadata": {},
   "outputs": [],
   "source": [
    "import numpy as np"
   ]
  },
  {
   "cell_type": "markdown",
   "id": "f8ae4236-2129-4a73-9f68-50daaf1630e3",
   "metadata": {},
   "source": [
    "### Defining an array"
   ]
  },
  {
   "cell_type": "code",
   "execution_count": 4,
   "id": "0420d774-22bc-46c4-aad8-686787c51542",
   "metadata": {},
   "outputs": [
    {
     "name": "stdout",
     "output_type": "stream",
     "text": [
      "[1 2 3 4]\n"
     ]
    }
   ],
   "source": [
    "x = np.array([1, 2, 3, 4])\n",
    "print(x)"
   ]
  },
  {
   "cell_type": "markdown",
   "id": "e3452420-0b71-480a-bc17-834378d835f2",
   "metadata": {},
   "source": [
    "#### Array of zeros"
   ]
  },
  {
   "cell_type": "code",
   "execution_count": 7,
   "id": "a9a53d13-8f90-4ea1-8ba9-4e2225eba5cb",
   "metadata": {},
   "outputs": [
    {
     "name": "stdout",
     "output_type": "stream",
     "text": [
      "Zeros Array:\n",
      " [[0. 0.]\n",
      " [0. 0.]]\n"
     ]
    }
   ],
   "source": [
    "z_array=np.zeros((2,2))\n",
    "print(\"Zeros Array:\\n\",z_array)"
   ]
  },
  {
   "cell_type": "markdown",
   "id": "3c2dba93-54cb-484e-8054-10562b9c2c97",
   "metadata": {},
   "source": [
    "#### Array of ones "
   ]
  },
  {
   "cell_type": "code",
   "execution_count": 8,
   "id": "cbef72e0-15d2-41ab-8f0b-4baf6ae19df0",
   "metadata": {},
   "outputs": [
    {
     "name": "stdout",
     "output_type": "stream",
     "text": [
      "Ones array:\n",
      " [[1. 1.]\n",
      " [1. 1.]]\n"
     ]
    }
   ],
   "source": [
    "o_array=np.ones((2,2))\n",
    "print(\"Ones array:\\n\",o_array)"
   ]
  },
  {
   "cell_type": "markdown",
   "id": "e71ff9ce-5cb6-4648-ab6c-438b7a9c2717",
   "metadata": {},
   "source": [
    "#### Range specified arrays"
   ]
  },
  {
   "cell_type": "code",
   "execution_count": 9,
   "id": "63396311-54c2-4855-8b15-ca8bf3f1fb99",
   "metadata": {},
   "outputs": [
    {
     "name": "stdout",
     "output_type": "stream",
     "text": [
      "range array [0 2 4 6 8]\n"
     ]
    }
   ],
   "source": [
    "x=np.arange(0,10,2)\n",
    "print(\"range array\",x)"
   ]
  },
  {
   "cell_type": "code",
   "execution_count": 11,
   "id": "c80f8e44-cac8-4cf8-b39c-f4eb60ac629f",
   "metadata": {},
   "outputs": [
    {
     "name": "stdout",
     "output_type": "stream",
     "text": [
      "Linspace array: [0.   0.25 0.5  0.75 1.  ]\n"
     ]
    }
   ],
   "source": [
    "y=np.linspace(0,1,5)\n",
    "print(\"Linspace array:\",y)"
   ]
  },
  {
   "cell_type": "markdown",
   "id": "ef9135f4-cda3-493b-9b20-79f2a5aba75d",
   "metadata": {},
   "source": [
    "#### Randomization"
   ]
  },
  {
   "cell_type": "code",
   "execution_count": 16,
   "id": "2cca0178-aa21-4e06-b479-9358b399dd6e",
   "metadata": {},
   "outputs": [
    {
     "name": "stdout",
     "output_type": "stream",
     "text": [
      "random array\n",
      " [[0.63122817 0.85858479 0.91479378]\n",
      " [0.97344289 0.25050818 0.67554833]]\n"
     ]
    }
   ],
   "source": [
    "# Random numbers array\n",
    "rand_array = np.random.rand(2,3)\n",
    "print(\"random array\\n\",rand_array)"
   ]
  },
  {
   "cell_type": "code",
   "execution_count": 17,
   "id": "2e161c02-fb57-477d-a0e4-8005e2fec3d6",
   "metadata": {},
   "outputs": [
    {
     "name": "stdout",
     "output_type": "stream",
     "text": [
      "Normal Array:\n",
      " [[ 1.66781887  0.09243047  0.87083315]\n",
      " [-0.88799786  0.17502711  1.38783788]]\n"
     ]
    }
   ],
   "source": [
    "# Normal distribution array\n",
    "norm_dist=np.random.randn(2,3)\n",
    "print(\"Normal Array:\\n\",norm_dist)"
   ]
  },
  {
   "cell_type": "code",
   "execution_count": 18,
   "id": "9eb60e8c-ed82-472e-833d-62b114a48bec",
   "metadata": {},
   "outputs": [
    {
     "name": "stdout",
     "output_type": "stream",
     "text": [
      "Random Integers Array: \n",
      " [[3 7 6]\n",
      " [9 5 0]]\n"
     ]
    }
   ],
   "source": [
    "# Random Integers \n",
    "random_integers = np.random.randint(0,10,(2,3))\n",
    "print(\"Random Integers Array: \\n\",random_integers)"
   ]
  },
  {
   "cell_type": "markdown",
   "id": "43a04142-e825-49f3-9de4-0544920909ef",
   "metadata": {},
   "source": [
    "#### Indexing and slicing"
   ]
  },
  {
   "cell_type": "code",
   "execution_count": 19,
   "id": "b6f4c9e9-a8cd-4d0d-a551-7ce49ae272b7",
   "metadata": {},
   "outputs": [
    {
     "name": "stdout",
     "output_type": "stream",
     "text": [
      "original array:\n",
      " [[1 2 3]\n",
      " [4 5 6]]\n",
      "Element at (0,1): 2\n"
     ]
    }
   ],
   "source": [
    "array = np.array([[1,2,3],[4,5,6]])\n",
    "print(\"original array:\\n\",array)\n",
    "print(\"Element at (0,1):\",array[0,1])"
   ]
  },
  {
   "cell_type": "markdown",
   "id": "b18af423-0aa9-4233-b228-478707ea06cb",
   "metadata": {},
   "source": [
    "#### Slicing operations"
   ]
  },
  {
   "cell_type": "code",
   "execution_count": 21,
   "id": "59d42cba-f88c-4963-a06c-8f380377a786",
   "metadata": {},
   "outputs": [
    {
     "name": "stdout",
     "output_type": "stream",
     "text": [
      "sliced subarray: [1 2]\n"
     ]
    }
   ],
   "source": [
    "subarray= array[0,:2]\n",
    "print(\"sliced subarray:\",subarray)"
   ]
  },
  {
   "cell_type": "markdown",
   "id": "d8174553-f581-4523-bc16-f6751fc544f2",
   "metadata": {},
   "source": [
    "#### Array Operations"
   ]
  },
  {
   "cell_type": "code",
   "execution_count": 22,
   "id": "294fd953-c348-49ee-83ac-1c44ecf336df",
   "metadata": {},
   "outputs": [
    {
     "name": "stdout",
     "output_type": "stream",
     "text": [
      "Addition [5 7 9]\n",
      "Multiplication: [[ 4 10 18]\n",
      " [16 25 36]]\n"
     ]
    }
   ],
   "source": [
    "array1 = np.array([1,2,3])\n",
    "array2 = np.array([4,5,6])\n",
    "print(\"Addition\",array1 + array2)\n",
    "print(\"Multiplication:\",array * array2)"
   ]
  },
  {
   "cell_type": "code",
   "execution_count": 23,
   "id": "0fe5a514-c2a9-4652-ba55-92a7bff78d21",
   "metadata": {},
   "outputs": [
    {
     "name": "stdout",
     "output_type": "stream",
     "text": [
      "Broadcasted Addition:\n",
      " [[11 22]\n",
      " [13 24]]\n"
     ]
    }
   ],
   "source": [
    "mat = np.array([[1,2],[3,4]])\n",
    "vect = np.array([10,20])\n",
    "print(\"Broadcasted Addition:\\n\",mat+vect)"
   ]
  },
  {
   "cell_type": "markdown",
   "id": "5e1c7bc0-b72b-4750-9c06-578f416529be",
   "metadata": {},
   "source": [
    "#### Reshaping arrays"
   ]
  },
  {
   "cell_type": "code",
   "execution_count": 26,
   "id": "6e68e145-0a4d-49f5-a6ff-de0ab34f2d00",
   "metadata": {},
   "outputs": [
    {
     "name": "stdout",
     "output_type": "stream",
     "text": [
      "Reshaped Array:\n",
      " [[0 1 2]\n",
      " [3 4 5]]\n"
     ]
    }
   ],
   "source": [
    "# Reshaping Array \n",
    "reshaped = np.arange(6).reshape((2,3))\n",
    "print(\"Reshaped Array:\\n\",reshaped)"
   ]
  },
  {
   "cell_type": "markdown",
   "id": "8c87b29a-cc5d-4d21-97b0-4d004fc290ef",
   "metadata": {},
   "source": [
    "#### Advanced functionalities "
   ]
  },
  {
   "cell_type": "code",
   "execution_count": 28,
   "id": "34489884-f770-4ca6-92c6-7609d0c2d4b6",
   "metadata": {},
   "outputs": [
    {
     "name": "stdout",
     "output_type": "stream",
     "text": [
      "dot product:\n",
      " [ 50 110]\n"
     ]
    }
   ],
   "source": [
    "# Linear Algebra \n",
    "mat = np.array([[1,2],[3,4]])\n",
    "vect = np.array([10,20])\n",
    "print(\"dot product:\\n\",np.dot(mat, vect))"
   ]
  },
  {
   "cell_type": "code",
   "execution_count": 30,
   "id": "11f5359c-343e-4daf-9c18-b5224f554f3a",
   "metadata": {},
   "outputs": [
    {
     "name": "stdout",
     "output_type": "stream",
     "text": [
      "Mean: 3.0\n",
      "Standard Deviation: 1.4142135623730951\n"
     ]
    }
   ],
   "source": [
    "# Statistical Computations\n",
    "stat_array=np.array([1,2,3,4,5])\n",
    "print(\"Mean:\",np.mean(stat_array))\n",
    "print(\"Standard Deviation:\",np.std(stat_array))"
   ]
  }
 ],
 "metadata": {
  "kernelspec": {
   "display_name": "Python 3 (ipykernel)",
   "language": "python",
   "name": "python3"
  },
  "language_info": {
   "codemirror_mode": {
    "name": "ipython",
    "version": 3
   },
   "file_extension": ".py",
   "mimetype": "text/x-python",
   "name": "python",
   "nbconvert_exporter": "python",
   "pygments_lexer": "ipython3",
   "version": "3.12.7"
  }
 },
 "nbformat": 4,
 "nbformat_minor": 5
}
